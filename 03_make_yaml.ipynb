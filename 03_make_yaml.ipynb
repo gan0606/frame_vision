{
 "cells": [
  {
   "cell_type": "code",
   "execution_count": 1,
   "metadata": {},
   "outputs": [],
   "source": [
    "import yaml"
   ]
  },
  {
   "cell_type": "code",
   "execution_count": 3,
   "metadata": {},
   "outputs": [],
   "source": [
    "# データセット情報\n",
    "dataset_info = {\n",
    "    \"train\": \"C:/Users/yuuki/Kaggle/object_detection_try/frame_vision/dataset/train/images\",  # train データセットのサブディレクトリ\n",
    "    \"val\": \"C:/Users/yuuki/Kaggle/object_detection_try/frame_vision/dataset/valid/images\",  # val データセットのサブディレクトリ\n",
    "    \"test\": \"C:/Users/yuuki/Kaggle/object_detection_try/frame_vision/dataset/test/images\",\n",
    "    \"nc\": 1,  # クラスの数\n",
    "    \"names\": [\"fire\"],  # クラス名\n",
    "}\n",
    "\n",
    "# YAML ファイルへの書き込み\n",
    "with open(\"data.yaml\", \"w\") as f:\n",
    "    yaml.dump(dataset_info, f, default_flow_style=False)"
   ]
  },
  {
   "cell_type": "code",
   "execution_count": null,
   "metadata": {},
   "outputs": [],
   "source": []
  },
  {
   "cell_type": "code",
   "execution_count": null,
   "metadata": {},
   "outputs": [],
   "source": []
  },
  {
   "cell_type": "code",
   "execution_count": null,
   "metadata": {},
   "outputs": [],
   "source": []
  },
  {
   "cell_type": "code",
   "execution_count": null,
   "metadata": {},
   "outputs": [],
   "source": []
  },
  {
   "cell_type": "code",
   "execution_count": null,
   "metadata": {},
   "outputs": [],
   "source": []
  },
  {
   "cell_type": "code",
   "execution_count": null,
   "metadata": {},
   "outputs": [],
   "source": []
  },
  {
   "cell_type": "code",
   "execution_count": null,
   "metadata": {},
   "outputs": [],
   "source": []
  }
 ],
 "metadata": {
  "kernelspec": {
   "display_name": "py_310_ultradynatics",
   "language": "python",
   "name": "python3"
  },
  "language_info": {
   "codemirror_mode": {
    "name": "ipython",
    "version": 3
   },
   "file_extension": ".py",
   "mimetype": "text/x-python",
   "name": "python",
   "nbconvert_exporter": "python",
   "pygments_lexer": "ipython3",
   "version": "3.10.14"
  }
 },
 "nbformat": 4,
 "nbformat_minor": 2
}
